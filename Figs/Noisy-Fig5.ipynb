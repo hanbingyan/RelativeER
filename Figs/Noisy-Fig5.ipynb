{
 "cells": [
  {
   "cell_type": "code",
   "execution_count": 1,
   "metadata": {},
   "outputs": [],
   "source": [
    "import numpy as np\n",
    "import matplotlib.pyplot as plt\n",
    "import seaborn as sns\n",
    "import pickle\n",
    "import pandas as pd"
   ]
  },
  {
   "cell_type": "code",
   "execution_count": null,
   "metadata": {},
   "outputs": [],
   "source": [
    "# n_instance = 10\n",
    "# n_agents = 2\n",
    "# actions_space = np.arange(1.2, 2.0, 0.04) # AER paper uses (1.4, 2.0, 0.04)\n",
    "# n_actions = actions_space.size\n",
    "# state_ravel = (n_actions,)*n_agents"
   ]
  },
  {
   "cell_type": "code",
   "execution_count": null,
   "metadata": {},
   "outputs": [],
   "source": [
    "# quality = np.ones(n_agents)*2\n",
    "# margin_cost = np.ones(n_agents)\n",
    "# horizon = 1/4\n",
    "# a0 = 0\n",
    "# def replay_classic_reward(action):\n",
    "#     # Compute profits for all agents\n",
    "#     price = actions_space[action]\n",
    "#     demand = np.exp((quality - price) / horizon)\n",
    "#     demand = demand / (np.sum(demand) + np.exp(a0 / horizon))\n",
    "#     reward = np.multiply(price - margin_cost, demand)\n",
    "#     return reward"
   ]
  },
  {
   "cell_type": "code",
   "execution_count": null,
   "metadata": {},
   "outputs": [],
   "source": [
    "# with open('AER_ratio.pickle', 'rb') as fp:\n",
    "#     AER_ratio = pickle.load(fp)\n",
    "\n",
    "# with open('AERNoisy_Q.pickle', 'rb') as fp:\n",
    "#     AERNoisy_Q = pickle.load(fp)"
   ]
  },
  {
   "cell_type": "code",
   "execution_count": null,
   "metadata": {},
   "outputs": [],
   "source": [
    "# with open('noisy_Q.pickle', 'rb') as fp:\n",
    "#     noisy_Q = pickle.load(fp)"
   ]
  },
  {
   "cell_type": "code",
   "execution_count": null,
   "metadata": {},
   "outputs": [],
   "source": [
    "# N = 200000\n",
    "# monopoly = replay_classic_reward([18, 18])[0]\n",
    "# nash = replay_classic_reward([7, 7])[0]\n",
    "\n",
    "# # For AER paper\n",
    "# monopoly = replay_classic_reward([13, 13])[0]\n",
    "# nash = replay_classic_reward([2, 2])[0]\n",
    "\n",
    "# ratio = np.zeros((n_instance, n_instance))\n",
    "\n",
    "# ss = np.random.SeedSequence(12345)\n",
    "# # Last a few rngs for sampling memories\n",
    "# child_seeds = ss.spawn(n_agents)\n",
    "# rng = [np.random.default_rng(s) for s in child_seeds]\n",
    "\n",
    "# for agent0 in range(n_instance):\n",
    "#     for agent1 in range(n_instance):\n",
    "#         sim_Q = np.zeros((n_agents, n_actions**n_agents, n_actions))\n",
    "#         sim_Q[0, :, :] = noisy_Q[agent0][0, :, :]\n",
    "#         sim_Q[1, :, :] = noisy_Q[agent1][1, :, :]\n",
    "# #         state = [7, 7]\n",
    "#         init = np.zeros(n_agents, dtype=int)\n",
    "#         for i in range(n_agents):\n",
    "#             init[i] = rng[i].integers(0, n_actions, size=1)\n",
    "#         state = np.ravel_multi_index(init, state_ravel)\n",
    "\n",
    "#         action = np.zeros(n_agents, dtype=int)\n",
    "#         reward = np.zeros(n_agents)\n",
    "#         for k in range(N):\n",
    "#             # For each agent, select and perform an action\n",
    "#             for i in range(n_agents):\n",
    "#                 action[i] = sim_Q[i, state].argmax()\n",
    "#             if k > N - 10000:\n",
    "#                 reward += replay_classic_reward(action)\n",
    "#             # Move to the next state\n",
    "#             state = np.ravel_multi_index(action, state_ravel)\n",
    "#             avg = np.sum(reward)/10000/n_agents\n",
    "#             ratio[agent0, agent1] = (avg - nash)/(monopoly - nash)\n",
    "#         print('Instance', agent0, 'vs', agent1, avg, 'ratio', ratio[agent0, agent1])"
   ]
  },
  {
   "cell_type": "code",
   "execution_count": null,
   "metadata": {},
   "outputs": [],
   "source": [
    "# ratio.diagonal()"
   ]
  },
  {
   "cell_type": "code",
   "execution_count": 2,
   "metadata": {},
   "outputs": [],
   "source": [
    "# LAM = 1/MEM_SIZE/0.05 Simulated Ratio\n",
    "tol = np.array([0.75023822, 0.93250101, 0.93591032, 0.41974075, 0.90971576,\n",
    "                0.92656322, 0.73407456, 0.84459248, 0.98900363, 0.84945931])\n",
    "\n",
    "# tol_Noisy LAM = 1/MEM_SIZE/0.05 Simulated Ratio\n",
    "tol_Noisy = np.array([0.85665173, 0.80733041, 0.79650658, 0.75549292, 0.46190127,\n",
    "                      0.98267348, 0.69073229, 0.72956276, 0.64223285, 0.87104759])\n",
    "\n",
    "# Indif (AER)\n",
    "AER = np.array([0.62075367, 0.87099466, 0.61114998, 0.52129677, 0.46779278,\n",
    "                0.83529688, 0.53940583, 0.46263388, 0.74909819, 0.61351567])\n",
    "\n",
    "AER_Noisy = np.array([0.47497263, 0.74768226, 0.68977372, 0.75170507, 0.92656322,\n",
    "                      0.40764159, 0.55472267, 0.69038107, 0.50024627, 0.64776956])\n",
    "\n",
    "df1 = pd.DataFrame({'Ratio':AER, 'Case':['Indif']*10})\n",
    "df2 = pd.DataFrame({'Ratio':AER_Noisy, 'Case':['Indif Noisy']*10})\n",
    "df3 = pd.DataFrame({'Ratio':tol, 'Case': ['Tolerant']*10})\n",
    "df4 = pd.DataFrame({'Ratio':tol_Noisy, 'Case': ['Tolerant Noisy']*10})\n",
    "frames = [df1, df2, df3, df4]\n",
    "df = pd.concat(frames)"
   ]
  },
  {
   "cell_type": "code",
   "execution_count": 3,
   "metadata": {},
   "outputs": [
    {
     "data": {
      "image/png": "[encoded data removed]",
      "text/plain": [
       "<Figure size 432x288 with 1 Axes>"
      ]
     },
     "metadata": {},
     "output_type": "display_data"
    }
   ],
   "source": [
    "sns.set_theme(style=\"whitegrid\")\n",
    "ax = sns.boxplot(x='Case', y='Ratio', data=df)\n",
    "ax.set_xlabel('') # , fontsize=14)\n",
    "ax.set_ylabel(\"Profit Ratio\")\n",
    "# plt.savefig('noisy.eps', format='eps', dpi=500, bbox_inches='tight', pad_inches=0.1)\n",
    "plt.show()"
   ]
  },
  {
   "cell_type": "code",
   "execution_count": null,
   "metadata": {},
   "outputs": [],
   "source": []
  }
 ],
 "metadata": {
  "kernelspec": {
   "display_name": "Python 3",
   "language": "python",
   "name": "python3"
  },
  "language_info": {
   "codemirror_mode": {
    "name": "ipython",
    "version": 3
   },
   "file_extension": ".py",
   "mimetype": "text/x-python",
   "name": "python",
   "nbconvert_exporter": "python",
   "pygments_lexer": "ipython3",
   "version": "3.7.2"
  }
 },
 "nbformat": 4,
 "nbformat_minor": 2
}
