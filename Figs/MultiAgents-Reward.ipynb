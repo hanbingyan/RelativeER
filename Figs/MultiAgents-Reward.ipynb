{
 "cells": [
  {
   "cell_type": "code",
   "execution_count": 1,
   "metadata": {},
   "outputs": [],
   "source": [
    "import random\n",
    "import numpy as np\n",
    "import matplotlib.pyplot as plt\n",
    "import seaborn as sns"
   ]
  },
  {
   "cell_type": "code",
   "execution_count": 2,
   "metadata": {},
   "outputs": [],
   "source": [
    "from scipy.optimize import minimize"
   ]
  },
  {
   "cell_type": "code",
   "execution_count": 3,
   "metadata": {},
   "outputs": [],
   "source": [
    "import sympy as sym"
   ]
  },
  {
   "cell_type": "code",
   "execution_count": 4,
   "metadata": {},
   "outputs": [],
   "source": [
    "n_agents = 6\n",
    "mu = 0.25\n",
    "c = np.ones(n_agents)\n",
    "x = sym.Symbol('x')\n",
    "y = sym.Symbol('y')\n",
    "z = sym.Symbol('z')\n",
    "w = sym.Symbol('w')\n",
    "k = sym.Symbol('k')\n",
    "l = sym.Symbol('l')"
   ]
  },
  {
   "cell_type": "code",
   "execution_count": 12,
   "metadata": {},
   "outputs": [
    {
     "data": {
      "text/latex": [
       "$\\displaystyle \\left[\\begin{matrix}1.37016272938416\\\\1.37016272938416\\\\1.37016272938416\\end{matrix}\\right]$"
      ],
      "text/plain": [
       "Matrix([\n",
       "[1.37016272938416],\n",
       "[1.37016272938416],\n",
       "[1.37016272938416]])"
      ]
     },
     "execution_count": 12,
     "metadata": {},
     "output_type": "execute_result"
    }
   ],
   "source": [
    "# Three agents\n",
    "f = sym.exp((2 - x)/mu) + sym.exp((2 - y)/mu) +  sym.exp((2 - z)/mu) + 1\n",
    "sym.nsolve([sym.diff((x - c[0])*sym.exp((2 - x)/mu)/f, x),\n",
    "            sym.diff((y - c[1])*sym.exp((2 - y)/mu)/f, y),\n",
    "            sym.diff((z - c[2])*sym.exp((2 - z)/mu)/f, z)], \n",
    "           [x, y, z], [1, 1, 1])"
   ]
  },
  {
   "cell_type": "code",
   "execution_count": 8,
   "metadata": {},
   "outputs": [
    {
     "data": {
      "text/latex": [
       "$\\displaystyle \\left[\\begin{matrix}1.3314606898838\\\\1.3314606898838\\\\1.3314606898838\\\\1.3314606898838\\end{matrix}\\right]$"
      ],
      "text/plain": [
       "Matrix([\n",
       "[1.3314606898838],\n",
       "[1.3314606898838],\n",
       "[1.3314606898838],\n",
       "[1.3314606898838]])"
      ]
     },
     "execution_count": 8,
     "metadata": {},
     "output_type": "execute_result"
    }
   ],
   "source": [
    "# Four agents\n",
    "n_agents = 4\n",
    "c = np.ones(n_agents)\n",
    "\n",
    "f = sym.exp((2 - x)/mu) + sym.exp((2 - y)/mu) +  sym.exp((2 - z)/mu) + sym.exp((2 - w)/mu) + 1\n",
    "sym.nsolve([sym.diff((x - c[0])*sym.exp((2 - x)/mu)/f, x),\n",
    "            sym.diff((y - c[1])*sym.exp((2 - y)/mu)/f, y),\n",
    "            sym.diff((z - c[2])*sym.exp((2 - z)/mu)/f, z),\n",
    "            sym.diff((w - c[3])*sym.exp((2 - w)/mu)/f, w)], \n",
    "           [x, y, z, w], [1, 1, 1, 1])"
   ]
  },
  {
   "cell_type": "code",
   "execution_count": 6,
   "metadata": {},
   "outputs": [
    {
     "data": {
      "text/latex": [
       "$\\displaystyle \\left[\\begin{matrix}1.29940062766042\\\\1.29940062766042\\\\1.29940062766042\\\\1.29940062766042\\\\1.29940062766042\\\\1.29940062766042\\end{matrix}\\right]$"
      ],
      "text/plain": [
       "Matrix([\n",
       "[1.29940062766042],\n",
       "[1.29940062766042],\n",
       "[1.29940062766042],\n",
       "[1.29940062766042],\n",
       "[1.29940062766042],\n",
       "[1.29940062766042]])"
      ]
     },
     "execution_count": 6,
     "metadata": {},
     "output_type": "execute_result"
    }
   ],
   "source": [
    "n_agents = 6\n",
    "c = np.ones(n_agents)\n",
    "\n",
    "f = sym.exp((2 - x)/mu) + sym.exp((2 - y)/mu) +  sym.exp((2 - z)/mu) + sym.exp((2 - w)/mu) + sym.exp((2 - k)/mu) + sym.exp((2 - l)/mu) + 1\n",
    "sym.nsolve([sym.diff((x - c[0])*sym.exp((2 - x)/mu)/f, x),\n",
    "            sym.diff((y - c[1])*sym.exp((2 - y)/mu)/f, y),\n",
    "            sym.diff((z - c[2])*sym.exp((2 - z)/mu)/f, z),\n",
    "            sym.diff((w - c[3])*sym.exp((2 - w)/mu)/f, w),\n",
    "            sym.diff((k - c[3])*sym.exp((2 - k)/mu)/f, k),\n",
    "            sym.diff((l - c[3])*sym.exp((2 - l)/mu)/f, l)], \n",
    "           [x, y, z, w, k, l], [1, 1, 1, 1, 1, 1])"
   ]
  },
  {
   "cell_type": "code",
   "execution_count": 9,
   "metadata": {},
   "outputs": [],
   "source": [
    "n_agents = 6\n",
    "quality = np.ones(n_agents)*2\n",
    "margin_cost = np.ones(n_agents)\n",
    "horizon = 1/4\n",
    "a0 = 0\n",
    "def reward_joint(price):\n",
    "    # Compute joint profits for all agents\n",
    "    demand = np.exp((quality - price)/horizon)\n",
    "    demand = demand/(np.sum(demand)+np.exp(a0/horizon))\n",
    "    reward = np.sum(np.multiply(price - margin_cost, demand))\n",
    "    return -reward"
   ]
  },
  {
   "cell_type": "code",
   "execution_count": 10,
   "metadata": {},
   "outputs": [
    {
     "name": "stdout",
     "output_type": "stream",
     "text": [
      "Optimization terminated successfully.\n",
      "         Current function value: -0.882590\n",
      "         Iterations: 542\n",
      "         Function evaluations: 899\n"
     ]
    }
   ],
   "source": [
    "x0 = np.array([1, 1, 1, 1, 1, 1])\n",
    "res = minimize(reward_joint, x0, method='nelder-mead',\n",
    "               options={'xatol': 1e-9, 'disp': True})"
   ]
  },
  {
   "cell_type": "code",
   "execution_count": 11,
   "metadata": {},
   "outputs": [
    {
     "data": {
      "text/plain": [
       "array([2.13258992, 2.13258992, 2.13258993, 2.13258992, 2.13258991,\n",
       "       2.13258993])"
      ]
     },
     "execution_count": 11,
     "metadata": {},
     "output_type": "execute_result"
    }
   ],
   "source": [
    "res.x"
   ]
  },
  {
   "cell_type": "code",
   "execution_count": 13,
   "metadata": {},
   "outputs": [
    {
     "data": {
      "text/plain": [
       "64"
      ]
     },
     "execution_count": 13,
     "metadata": {},
     "output_type": "execute_result"
    }
   ],
   "source": [
    "2**6"
   ]
  },
  {
   "cell_type": "code",
   "execution_count": 25,
   "metadata": {},
   "outputs": [
    {
     "data": {
      "text/plain": [
       "0.515919337111608"
      ]
     },
     "execution_count": 25,
     "metadata": {},
     "output_type": "execute_result"
    }
   ],
   "source": [
    "(- reward_joint(res.x)/6 + reward_joint(np.repeat(1.60, 6))/6)/(reward_joint(np.repeat(1.30, 6))/6 - reward_joint(res.x)/6)"
   ]
  },
  {
   "cell_type": "code",
   "execution_count": 19,
   "metadata": {},
   "outputs": [
    {
     "data": {
      "text/plain": [
       "-0.04949833386959105"
      ]
     },
     "execution_count": 19,
     "metadata": {},
     "output_type": "execute_result"
    }
   ],
   "source": []
  },
  {
   "cell_type": "code",
   "execution_count": 22,
   "metadata": {},
   "outputs": [
    {
     "data": {
      "text/plain": [
       "0.2"
      ]
     },
     "execution_count": 22,
     "metadata": {},
     "output_type": "execute_result"
    }
   ],
   "source": [
    "1/1000/0.005"
   ]
  },
  {
   "cell_type": "code",
   "execution_count": null,
   "metadata": {},
   "outputs": [],
   "source": []
  }
 ],
 "metadata": {
  "kernelspec": {
   "display_name": "Python 3",
   "language": "python",
   "name": "python3"
  },
  "language_info": {
   "codemirror_mode": {
    "name": "ipython",
    "version": 3
   },
   "file_extension": ".py",
   "mimetype": "text/x-python",
   "name": "python",
   "nbconvert_exporter": "python",
   "pygments_lexer": "ipython3",
   "version": "3.7.2"
  }
 },
 "nbformat": 4,
 "nbformat_minor": 2
}
