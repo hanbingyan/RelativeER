{
 "cells": [
  {
   "cell_type": "code",
   "execution_count": 1,
   "metadata": {},
   "outputs": [],
   "source": [
    "import numpy as np\n",
    "import matplotlib.pyplot as plt\n",
    "import seaborn as sns\n",
    "import pickle\n",
    "import pandas as pd"
   ]
  },
  {
   "cell_type": "code",
   "execution_count": 2,
   "metadata": {},
   "outputs": [],
   "source": [
    "n_agents = 2\n",
    "actions_space = np.arange(1.2, 2.0, 0.04)\n",
    "n_actions = actions_space.size\n",
    "# state_ravel = (n_actions,)*n_agents"
   ]
  },
  {
   "cell_type": "code",
   "execution_count": 3,
   "metadata": {},
   "outputs": [],
   "source": [
    "quality = np.ones(n_agents)*2\n",
    "margin_cost = np.ones(n_agents)\n",
    "horizon = 1/4\n",
    "a0 = 0\n",
    "def replay_classic_reward(action):\n",
    "    # Compute profits for all agents\n",
    "    price = actions_space[action]\n",
    "    demand = np.exp((quality - price) / horizon)\n",
    "    demand = demand / (np.sum(demand) + np.exp(a0 / horizon))\n",
    "    reward = np.multiply(price - margin_cost, demand)\n",
    "    return reward"
   ]
  },
  {
   "cell_type": "code",
   "execution_count": 4,
   "metadata": {},
   "outputs": [],
   "source": [
    "with open('DQN_LAMn005_act.pickle', 'rb') as fp:\n",
    "    LAMn_price = pickle.load(fp)\n",
    "\n",
    "with open('DQN_LAMn005_heat.pickle', 'rb') as fp:\n",
    "    LAMn_heat = pickle.load(fp)\n",
    "    \n",
    "with open('DQN_LAM5_act.pickle', 'rb') as fp:\n",
    "    LAM5_price = pickle.load(fp)\n",
    "\n",
    "with open('DQN_LAM5_heat.pickle', 'rb') as fp:\n",
    "    LAM5_heat = pickle.load(fp)"
   ]
  },
  {
   "cell_type": "code",
   "execution_count": 7,
   "metadata": {},
   "outputs": [],
   "source": [
    "with open('DQN_LAM0_act.pickle', 'rb') as fp:\n",
    "    LAM0_price = pickle.load(fp)\n",
    "\n",
    "with open('DQN_LAM0_heat.pickle', 'rb') as fp:\n",
    "    LAM0_heat = pickle.load(fp)"
   ]
  },
  {
   "cell_type": "code",
   "execution_count": 8,
   "metadata": {},
   "outputs": [],
   "source": [
    "monopoly = replay_classic_reward([18, 18])[0]\n",
    "nash = replay_classic_reward([7, 7])[0]\n",
    "total_reward = np.zeros(5)\n",
    "for ins in range(5):\n",
    "    for period in range(1000):\n",
    "        total_reward[ins] += replay_classic_reward(LAM5_price[ins][period].astype(int)).mean()\n",
    "origin_ratio = (total_reward/1000 - nash)/(monopoly - nash)"
   ]
  },
  {
   "cell_type": "code",
   "execution_count": 12,
   "metadata": {},
   "outputs": [],
   "source": [
    "# These are original ratios of long-run prices\n",
    "LAMn_ratio = np.array([0.18604868, 0.14171286, -0.28213199, -0.30892387, -0.00169872])\n",
    "LAM0_ratio = np.array([1.53249551e-01, -2.33589361e-01,  2.11199361e-01, -2.48372841e-02, 8.20857317e-15])\n",
    "LAM5_ratio = np.array([0.46332573, 0.91060291, 0.64665479, 0.9516298 , 0.7330381])\n",
    "n_instance = len(LAM0_price)"
   ]
  },
  {
   "cell_type": "code",
   "execution_count": 13,
   "metadata": {},
   "outputs": [],
   "source": [
    "df1 = pd.DataFrame({'Ratio':LAM0_ratio, 'Lambda':np.zeros(n_instance)})\n",
    "df2 = pd.DataFrame({'Ratio':LAM5_ratio, 'Lambda':np.ones(n_instance)*5})\n",
    "df3 = pd.DataFrame({'Ratio':LAMn_ratio, 'Lambda': -np.ones(n_instance)*0.005})\n",
    "frames = [df1, df2, df3]\n",
    "df = pd.concat(frames)"
   ]
  },
  {
   "cell_type": "code",
   "execution_count": 14,
   "metadata": {},
   "outputs": [
    {
     "data": {
      "image/png": "[encoded data removed]",
      "text/plain": [
       "<Figure size 432x288 with 1 Axes>"
      ]
     },
     "metadata": {},
     "output_type": "display_data"
    }
   ],
   "source": [
    "sns.set_theme(style=\"whitegrid\")\n",
    "ax = sns.boxplot(x=\"Lambda\", y=\"Ratio\", data=df)\n",
    "ax.set_xlabel(\"Preference Coefficient\") # , fontsize=14)\n",
    "ax.set_ylabel(\"Profit Ratio\")\n",
    "plt.savefig('dqn_box.eps', format='eps', dpi=500, bbox_inches='tight', pad_inches=0.1)\n",
    "plt.show()"
   ]
  },
  {
   "cell_type": "code",
   "execution_count": 8,
   "metadata": {},
   "outputs": [
    {
     "name": "stdout",
     "output_type": "stream",
     "text": [
      "Instance 0 vs 0 0.25513036767955743 ratio 0.26205335191400614\n",
      "Instance 0 vs 1 0.25513036767955743 ratio 0.26205335191400614\n",
      "Instance 0 vs 2 0.23146117432071428 ratio 0.049930746409859096\n",
      "Instance 0 vs 3 0.21737338361739547 ratio -0.0763236140357874\n",
      "Instance 0 vs 4 0.25779578006249126 ratio 0.2859406982565338\n",
      "Instance 1 vs 0 0.23343143914734474 ratio 0.06758820106924578\n",
      "Instance 1 vs 1 0.24221853798700796 ratio 0.14633791900145549\n",
      "Instance 1 vs 2 0.2230471394001759 ratio -0.025475583797023547\n",
      "Instance 1 vs 3 0.2110835387972722 ratio -0.1326930158668315\n",
      "Instance 1 vs 4 0.2494310011445702 ratio 0.21097579887720408\n",
      "Instance 2 vs 0 0.1994135135727298 ratio -0.23727943414475652\n",
      "Instance 2 vs 1 0.2110835387972722 ratio -0.1326930158668315\n",
      "Instance 2 vs 2 0.2047646730376514 ratio -0.1893225024927847\n",
      "Instance 2 vs 3 0.19821793053432002 ratio -0.24799421370479988\n",
      "Instance 2 vs 4 0.1913027050686956 ratio -0.3099682582435351\n",
      "Instance 3 vs 0 0.20886051117805146 ratio -0.15261572314069835\n",
      "Instance 3 vs 1 0.20805840020878572 ratio -0.1598042177431364\n",
      "Instance 3 vs 2 0.1994135135727298 ratio -0.23727943414475652\n",
      "Instance 3 vs 3 0.1994135135727298 ratio -0.23727943414475652\n",
      "Instance 3 vs 4 0.19911287669782313 ratio -0.23997373285823595\n",
      "Instance 4 vs 0 0.22586718248195697 ratio -0.00020244173965588332\n",
      "Instance 4 vs 1 0.23782542796605785 ratio 0.10696699791503189\n",
      "Instance 4 vs 2 0.20598004328646724 ratio -0.17843039054277096\n",
      "Instance 4 vs 3 0.20598004328646724 ratio -0.17843039054277096\n",
      "Instance 4 vs 4 0.2494310011445702 ratio 0.21097579887720408\n"
     ]
    }
   ],
   "source": [
    "# Ratio matrix calculator\n",
    "N = 200000\n",
    "monopoly = replay_classic_reward([18, 18])[0]\n",
    "nash = replay_classic_reward([7, 7])[0]\n",
    "\n",
    "ss = np.random.SeedSequence(12345)\n",
    "# Last a few rngs for sampling memories\n",
    "child_seeds = ss.spawn(n_agents)\n",
    "rng = [np.random.default_rng(s) for s in child_seeds]\n",
    "\n",
    "sim_ratio = np.zeros((n_instance, n_instance))\n",
    "\n",
    "for agent0 in range(n_instance):\n",
    "    for agent1 in range(n_instance):\n",
    "        sim_Q = np.zeros((n_agents, n_actions, n_actions))\n",
    "        sim_Q[0, :, :] = LAM5_heat[agent0][0, :, :]\n",
    "        sim_Q[1, :, :] = LAM5_heat[agent1][1, :, :]\n",
    "        init = np.zeros(n_agents, dtype=int)\n",
    "        for i in range(n_agents):\n",
    "            init[i] = rng[i].integers(0, n_actions, size=1)\n",
    "        state = init\n",
    "#         state = np.random.randint(0, n_actions**n_agents, size=1)\n",
    "        action = np.zeros(n_agents, dtype=int)\n",
    "        reward = np.zeros(n_agents)\n",
    "        for k in range(N):\n",
    "            # For each agent, select and perform an action\n",
    "            for i in range(n_agents):\n",
    "                action[i] = sim_Q[i, state[0], state[1]]\n",
    "            if k > N - 10000:\n",
    "                reward += replay_classic_reward(action)\n",
    "            # Move to the next state\n",
    "            state = action\n",
    "            avg = np.sum(reward)/10000/n_agents\n",
    "            sim_ratio[agent0, agent1] = (avg - nash)/(monopoly - nash)\n",
    "        print('Instance', agent0, 'vs', agent1, avg, 'ratio', sim_ratio[agent0, agent1])"
   ]
  },
  {
   "cell_type": "code",
   "execution_count": 13,
   "metadata": {},
   "outputs": [],
   "source": []
  },
  {
   "cell_type": "code",
   "execution_count": 16,
   "metadata": {},
   "outputs": [
    {
     "data": {
      "image/png": "[encoded data removed]",
      "text/plain": [
       "<Figure size 576x432 with 2 Axes>"
      ]
     },
     "metadata": {
      "needs_background": "light"
     },
     "output_type": "display_data"
    }
   ],
   "source": [
    "cmap = sns.diverging_palette(230, 20, as_cmap=True)\n",
    "plt.figure(figsize=(8, 6))\n",
    "labels = np.arange(1, 6)\n",
    "ax = sns.heatmap(sim_ratio, xticklabels=labels, yticklabels=labels, annot=True, cmap=cmap)\n",
    "plt.xlabel('Player 2')\n",
    "plt.ylabel('Player 1')\n",
    "# cbar = ax.figure.colorbar(ax.collections[0])\n",
    "plt.savefig('dqn_ratio.eps', format='eps', dpi=300, bbox_inches='tight', pad_inches=0.1)\n",
    "plt.show()"
   ]
  },
  {
   "cell_type": "code",
   "execution_count": null,
   "metadata": {},
   "outputs": [],
   "source": [
    "# Simulated ratio below is close, but a little higher\n",
    "# LAM0_ratio = np.array([1.46337919e-01, -2.37279434e-01,  2.10975799e-01, -8.21619733e-02, -2.02441740e-04])\n",
    "# LAM5_ratio = np.array([0.47401543, 0.92656322, 0.65629609, 0.96937811, 0.74947158])"
   ]
  }
 ],
 "metadata": {
  "kernelspec": {
   "display_name": "Python 3",
   "language": "python",
   "name": "python3"
  },
  "language_info": {
   "codemirror_mode": {
    "name": "ipython",
    "version": 3
   },
   "file_extension": ".py",
   "mimetype": "text/x-python",
   "name": "python",
   "nbconvert_exporter": "python",
   "pygments_lexer": "ipython3",
   "version": "3.7.2"
  }
 },
 "nbformat": 4,
 "nbformat_minor": 2
}
