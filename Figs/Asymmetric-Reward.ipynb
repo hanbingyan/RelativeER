{
 "cells": [
  {
   "cell_type": "code",
   "execution_count": 1,
   "metadata": {},
   "outputs": [],
   "source": [
    "import random\n",
    "import numpy as np\n",
    "import matplotlib.pyplot as plt\n",
    "import seaborn as sns"
   ]
  },
  {
   "cell_type": "code",
   "execution_count": 2,
   "metadata": {},
   "outputs": [],
   "source": [
    "from scipy.optimize import minimize"
   ]
  },
  {
   "cell_type": "code",
   "execution_count": 3,
   "metadata": {},
   "outputs": [],
   "source": [
    "import sympy as sym"
   ]
  },
  {
   "cell_type": "code",
   "execution_count": 4,
   "metadata": {},
   "outputs": [
    {
     "data": {
      "text/latex": [
       "$\\displaystyle \\left[\\begin{matrix}1.37232666249679\\\\1.20377234597973\\end{matrix}\\right]$"
      ],
      "text/plain": [
       "Matrix([\n",
       "[1.37232666249679],\n",
       "[1.20377234597973]])"
      ]
     },
     "execution_count": 4,
     "metadata": {},
     "output_type": "execute_result"
    }
   ],
   "source": [
    "# Asymmetric\n",
    "x = sym.Symbol('x')\n",
    "y = sym.Symbol('y')\n",
    "\n",
    "mu = 0.25\n",
    "c = np.ones(2)\n",
    "c[1] = 0.5\n",
    "sym.nsolve([sym.diff((x - c[0])*sym.exp((2 - x)/mu)/(sym.exp((2 - x)/mu) + sym.exp((2 - y)/mu) + 1), x),\n",
    "            sym.diff((y - c[1])*sym.exp((2 - y)/mu)/(sym.exp((2 - x)/mu) + sym.exp((2 - y)/mu) + 1), y)], \n",
    "           [x, y], [1, 1])"
   ]
  },
  {
   "cell_type": "code",
   "execution_count": 5,
   "metadata": {},
   "outputs": [
    {
     "name": "stdout",
     "output_type": "stream",
     "text": [
      "(1.8551826741486366e-13, 1.7119639039719914e-13)\n"
     ]
    }
   ],
   "source": [
    "# Method 2\n",
    "from sympy.utilities.lambdify import lambdify\n",
    "from scipy.optimize import fsolve\n",
    "dif1 = lambdify((x,y), sym.diff((x - c[0])*sym.exp((2 - x)/mu)/(sym.exp((2 - x)/mu) + sym.exp((2 - y)/mu) + 1), x))\n",
    "dif2 = lambdify((x,y), sym.diff((y - c[1])*sym.exp((2 - y)/mu)/(sym.exp((2 - x)/mu) + sym.exp((2 - y)/mu) + 1), y))\n",
    "def equations(p):\n",
    "    a, b = p\n",
    "    return (dif1(a, b), dif2(a, b))\n",
    "\n",
    "a, b =  fsolve(equations, (1, 1))\n",
    "print(equations((a, b)))"
   ]
  },
  {
   "cell_type": "code",
   "execution_count": 6,
   "metadata": {},
   "outputs": [
    {
     "data": {
      "text/plain": [
       "(1.3723266624965957, 1.203772345979548)"
      ]
     },
     "execution_count": 6,
     "metadata": {},
     "output_type": "execute_result"
    }
   ],
   "source": [
    "a, b"
   ]
  },
  {
   "cell_type": "code",
   "execution_count": 7,
   "metadata": {},
   "outputs": [],
   "source": [
    "n_agents = 2\n",
    "quality = np.ones(n_agents)*2\n",
    "margin_cost = np.ones(n_agents)\n",
    "margin_cost[1] = 0.5\n",
    "horizon = 1/4\n",
    "a0 = 0\n",
    "def reward_joint(price):\n",
    "    # Compute joint profits for all agents\n",
    "    demand = np.exp((quality - price)/horizon)\n",
    "    demand = demand/(np.sum(demand)+np.exp(a0/horizon))\n",
    "    reward = np.sum(np.multiply(price - margin_cost, demand))\n",
    "    return -reward"
   ]
  },
  {
   "cell_type": "code",
   "execution_count": 8,
   "metadata": {},
   "outputs": [
    {
     "name": "stdout",
     "output_type": "stream",
     "text": [
      "Optimization terminated successfully.\n",
      "         Current function value: -0.948402\n",
      "         Iterations: 74\n",
      "         Function evaluations: 146\n"
     ]
    }
   ],
   "source": [
    "x0 = np.array([1, 1])\n",
    "res = minimize(reward_joint, x0, method='nelder-mead',\n",
    "               options={'xatol': 1e-9, 'disp': True})"
   ]
  },
  {
   "cell_type": "code",
   "execution_count": 9,
   "metadata": {},
   "outputs": [
    {
     "data": {
      "text/plain": [
       "array([2.19840249, 1.69840249])"
      ]
     },
     "execution_count": 9,
     "metadata": {},
     "output_type": "execute_result"
    }
   ],
   "source": [
    "res.x"
   ]
  },
  {
   "cell_type": "code",
   "execution_count": null,
   "metadata": {},
   "outputs": [],
   "source": [
    "\n",
    "sym.diff((x - 1)*sym.exp((2 - x)*4)/(sym.exp((2 - x)*4) + sym.exp((2 - x)*4) + 1), x)"
   ]
  }
 ],
 "metadata": {
  "kernelspec": {
   "display_name": "Python 3",
   "language": "python",
   "name": "python3"
  },
  "language_info": {
   "codemirror_mode": {
    "name": "ipython",
    "version": 3
   },
   "file_extension": ".py",
   "mimetype": "text/x-python",
   "name": "python",
   "nbconvert_exporter": "python",
   "pygments_lexer": "ipython3",
   "version": "3.7.2"
  }
 },
 "nbformat": 4,
 "nbformat_minor": 2
}
