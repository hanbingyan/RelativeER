{
 "cells": [
  {
   "cell_type": "code",
   "execution_count": 1,
   "metadata": {},
   "outputs": [],
   "source": [
    "import numpy as np\n",
    "import matplotlib.pyplot as plt\n",
    "import seaborn as sns\n",
    "import pickle\n",
    "import pandas as pd"
   ]
  },
  {
   "cell_type": "code",
   "execution_count": null,
   "metadata": {},
   "outputs": [],
   "source": [
    "# LAM = 0.02\n",
    "with open('end_price_tol.pickle', 'rb') as fp:\n",
    "    Two_price = pickle.load(fp)\n",
    "\n",
    "with open('Q_hist_tol.pickle', 'rb') as fp:\n",
    "    Two_heat = pickle.load(fp)"
   ]
  },
  {
   "cell_type": "code",
   "execution_count": null,
   "metadata": {},
   "outputs": [],
   "source": [
    "cycles = np.zeros(10)\n",
    "for k in range(len(Two_price)):\n",
    "    cycles[k] = len(np.unique(Two_price[k]))\n",
    "    print(len(np.unique(Two_price[k])))"
   ]
  },
  {
   "cell_type": "code",
   "execution_count": null,
   "metadata": {},
   "outputs": [],
   "source": [
    "Two_ratio.mean(), Two_ratio.std()"
   ]
  },
  {
   "cell_type": "code",
   "execution_count": 4,
   "metadata": {},
   "outputs": [],
   "source": [
    "n_instance = 5\n",
    "n_agents = 3\n",
    "actions_space = np.arange(1.2, 2.1, 0.04)\n",
    "quality = np.ones(n_agents) * 2\n",
    "margin_cost = np.ones(n_agents)\n",
    "horizon = 1 / 4\n",
    "a0 = 0\n",
    "n_actions = actions_space.size\n",
    "state_ravel = (n_actions,) * n_agents\n",
    "\n",
    "\n",
    "def replay_classic_reward(price):\n",
    "    # Compute profits for all agents\n",
    "#     price = actions_space[action]\n",
    "    demand = np.exp((quality - price) / horizon)\n",
    "    demand = demand / (np.sum(demand) + np.exp(a0 / horizon))\n",
    "    reward = np.multiply(price - margin_cost, demand)\n",
    "    return reward"
   ]
  },
  {
   "cell_type": "code",
   "execution_count": 3,
   "metadata": {},
   "outputs": [],
   "source": [
    "with open('ThreeAgents_Q.pickle', 'rb') as fp:\n",
    "    Three_Q = pickle.load(fp)\n",
    "\n",
    "with open('ThreeAgents_price.pickle', 'rb') as fp:\n",
    "    Three_price = pickle.load(fp)\n",
    "\n",
    "with open('ThreeAgents_LAM002_Q.pickle', 'rb') as fp:\n",
    "    Three002_Q = pickle.load(fp)\n",
    "\n",
    "with open('ThreeAgents_LAM002_price.pickle', 'rb') as fp:\n",
    "    Three002_price = pickle.load(fp)"
   ]
  },
  {
   "cell_type": "code",
   "execution_count": null,
   "metadata": {},
   "outputs": [],
   "source": [
    "np.unravel_index(Three_price[0],state_ravel)"
   ]
  },
  {
   "cell_type": "code",
   "execution_count": null,
   "metadata": {},
   "outputs": [],
   "source": [
    "Three_price[0].shape"
   ]
  },
  {
   "cell_type": "code",
   "execution_count": 5,
   "metadata": {},
   "outputs": [],
   "source": [
    "monopoly = replay_classic_reward(np.array([2.0, 2.0, 2.0]))[0]\n",
    "nash = replay_classic_reward(np.array([1.37, 1.37, 1.37]))[0]"
   ]
  },
  {
   "cell_type": "code",
   "execution_count": 6,
   "metadata": {},
   "outputs": [
    {
     "data": {
      "text/plain": [
       "(0.25, 0.12011194666838046)"
      ]
     },
     "execution_count": 6,
     "metadata": {},
     "output_type": "execute_result"
    }
   ],
   "source": [
    "monopoly, nash"
   ]
  },
  {
   "cell_type": "code",
   "execution_count": 7,
   "metadata": {},
   "outputs": [
    {
     "name": "stdout",
     "output_type": "stream",
     "text": [
      "Instance 0 0.13306518118787689 ratio 0.09972614253002382\n",
      "Reward [1207.01098003 1298.09850948 1487.24514167]\n",
      "Instance 1 0.13601727497360994 ratio 0.12245412797604484\n",
      "Reward [ 878.09402976 1658.98338244 1543.84888883]\n",
      "Instance 2 0.11713813971550284 ratio -0.022895153762025666\n",
      "Reward [1204.3249404  1330.32791083  979.84275465]\n",
      "Instance 3 0.13501089990569567 ratio 0.11470610926223082\n",
      "Reward [1278.00108373 1597.86132937 1174.86961677]\n",
      "Instance 4 0.11101951077576477 ratio -0.07000209533821886\n",
      "Reward [1153.56314047 1028.28082106 1149.07442028]\n"
     ]
    }
   ],
   "source": [
    "# Ratio matrix calculator\n",
    "N = 200000\n",
    "\n",
    "# Three agents \n",
    "# ss = np.random.SeedSequence(12345)\n",
    "# # Last a few rngs for sampling memories\n",
    "# child_seeds = ss.spawn(n_agents)\n",
    "# rng = [np.random.default_rng(s) for s in child_seeds]\n",
    "\n",
    "sim_ratio = np.zeros(n_instance)\n",
    "\n",
    "converged = np.zeros(n_agents)\n",
    "for ins in range(n_instance):\n",
    "    sim_Q = Three002_Q[ins]\n",
    "    state = Three002_price[ins][-1]\n",
    "    action = np.zeros(n_agents, dtype=int)\n",
    "    reward = np.zeros(n_agents)\n",
    "    for k in range(N):\n",
    "#         if k > N - 30:\n",
    "#             print(state)\n",
    "        # For each agent, select and perform an action\n",
    "        for i in range(n_agents):\n",
    "            action[i] = sim_Q[i, state].argmax()\n",
    "        if k > N - 10001:\n",
    "            reward += replay_classic_reward(actions_space[action])\n",
    "            converged += actions_space[action]\n",
    "        # Move to the next state\n",
    "        state = np.ravel_multi_index(action, state_ravel)\n",
    "        avg = np.sum(reward)/10001/n_agents\n",
    "        sim_ratio[ins] = (avg - nash)/(monopoly - nash)\n",
    "    print('Instance', ins, avg, 'ratio', sim_ratio[ins])\n",
    "    print('Reward', reward)"
   ]
  },
  {
   "cell_type": "code",
   "execution_count": 8,
   "metadata": {},
   "outputs": [
    {
     "data": {
      "text/plain": [
       "array([ 0.09972614,  0.12245413, -0.02289515,  0.11470611, -0.0700021 ])"
      ]
     },
     "execution_count": 8,
     "metadata": {},
     "output_type": "execute_result"
    }
   ],
   "source": [
    "sim_ratio"
   ]
  },
  {
   "cell_type": "code",
   "execution_count": 9,
   "metadata": {},
   "outputs": [],
   "source": [
    "# ThreeAgents Ratio\n",
    "Three002_ratio = np.array([0.09972614, 0.12245413, -0.02289515, 0.11470611, -0.0700021])\n",
    "Three01_ratio = np.array([0.45236368, 0.68260603, 0.54546982, 0.51089425, 0.54174672])\n",
    "# LAM = 1/MEM_SIZE/0.05 Simulated Ratio\n",
    "Two002_ratio = np.array([0.75023822, 0.93250101, 0.93591032, 0.41974075, 0.90971576,\n",
    "                         0.92656322, 0.73407456, 0.84459248, 0.98900363, 0.84945931])"
   ]
  },
  {
   "cell_type": "code",
   "execution_count": 10,
   "metadata": {},
   "outputs": [
    {
     "data": {
      "text/plain": [
       "(0.048797826, 0.07951874170406587)"
      ]
     },
     "execution_count": 10,
     "metadata": {},
     "output_type": "execute_result"
    }
   ],
   "source": [
    "Three002_ratio.mean(), Three002_ratio.std()"
   ]
  },
  {
   "cell_type": "code",
   "execution_count": 11,
   "metadata": {},
   "outputs": [
    {
     "data": {
      "text/plain": [
       "(0.8291799259999999, 0.15720872397514762)"
      ]
     },
     "execution_count": 11,
     "metadata": {},
     "output_type": "execute_result"
    }
   ],
   "source": [
    "Two002_ratio.mean(), Two002_ratio.std()"
   ]
  },
  {
   "cell_type": "code",
   "execution_count": 12,
   "metadata": {},
   "outputs": [
    {
     "data": {
      "text/plain": [
       "(0.5466160999999999, 0.07573355283374285)"
      ]
     },
     "execution_count": 12,
     "metadata": {},
     "output_type": "execute_result"
    }
   ],
   "source": [
    "Three01_ratio.mean(), Three01_ratio.std()"
   ]
  },
  {
   "cell_type": "code",
   "execution_count": null,
   "metadata": {},
   "outputs": [],
   "source": [
    "df1 = pd.DataFrame({'Ratio':Two_ratio, 'Agents':np.ones(10)*2})\n",
    "df2 = pd.DataFrame({'Ratio':Three_ratio, 'Agents':np.ones(5)*3})\n",
    "frames = [df1, df2]\n",
    "df = pd.concat(frames)\n",
    "sns.set_theme(style=\"whitegrid\")\n",
    "ax = sns.boxplot(x=\"Agents\", y=\"Ratio\", data=df)\n",
    "ax.set_xlabel(\"Number of Agents\") # , fontsize=14)\n",
    "ax.set_ylabel(\"Profit Ratio\")\n",
    "# plt.savefig('three_agents.eps', format='eps', dpi=500, bbox_inches='tight', pad_inches=0.1)\n",
    "plt.show()"
   ]
  },
  {
   "cell_type": "code",
   "execution_count": null,
   "metadata": {},
   "outputs": [],
   "source": [
    "cycles = np.zeros(5)\n",
    "for k in range(len(Three_price)):\n",
    "    cycles[k] = len(np.unique(Three_price[k]))\n",
    "    print(len(np.unique(Three_price[k])))"
   ]
  }
 ],
 "metadata": {
  "kernelspec": {
   "display_name": "Python 3",
   "language": "python",
   "name": "python3"
  },
  "language_info": {
   "codemirror_mode": {
    "name": "ipython",
    "version": 3
   },
   "file_extension": ".py",
   "mimetype": "text/x-python",
   "name": "python",
   "nbconvert_exporter": "python",
   "pygments_lexer": "ipython3",
   "version": "3.7.2"
  }
 },
 "nbformat": 4,
 "nbformat_minor": 2
}
